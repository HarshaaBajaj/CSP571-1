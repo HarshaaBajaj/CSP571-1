{
 "cells": [
  {
   "cell_type": "code",
   "execution_count": 1,
   "metadata": {
    "collapsed": false
   },
   "outputs": [
    {
     "name": "stdout",
     "output_type": "stream",
     "text": [
      "ready\n"
     ]
    }
   ],
   "source": [
    "print \"ready\""
   ]
  },
  {
   "cell_type": "code",
   "execution_count": 36,
   "metadata": {
    "collapsed": true
   },
   "outputs": [],
   "source": [
    "import pandas as pd\n",
    "import numpy as np\n",
    "import os\n",
    "import re\n",
    "import csv"
   ]
  },
  {
   "cell_type": "code",
   "execution_count": 2,
   "metadata": {
    "collapsed": true
   },
   "outputs": [],
   "source": [
    "path='C:/Users/mom1/Desktop/571/'"
   ]
  },
  {
   "cell_type": "code",
   "execution_count": 4,
   "metadata": {
    "collapsed": false
   },
   "outputs": [
    {
     "name": "stderr",
     "output_type": "stream",
     "text": [
      "C:\\Users\\mom1\\Anaconda2\\lib\\site-packages\\IPython\\core\\interactiveshell.py:2717: DtypeWarning: Columns (7,14) have mixed types. Specify dtype option on import or set low_memory=False.\n",
      "  interactivity=interactivity, compiler=compiler, result=result)\n"
     ]
    }
   ],
   "source": [
    "names=[\"ID\",\"title\",\"IMDB URL\",\"genre\",\"director\",\"cast\",\"IMDB rating\",\"mpaa\",\"writer\",\n",
    "    \"certificates\",\"runtimes\",\"year\",\"plot summary\",\"plot keywords\",\"type\",\n",
    "    \"full screen image URL\"]\n",
    "mov=pd.read_table('C:/Users/mom1/Desktop/571/all.16.data',sep='|',header= None,names=names)"
   ]
  },
  {
   "cell_type": "markdown",
   "metadata": {},
   "source": [
    "18,87,166 records with 8840 unique combinatorial genres"
   ]
  },
  {
   "cell_type": "code",
   "execution_count": 5,
   "metadata": {
    "collapsed": false
   },
   "outputs": [
    {
     "name": "stdout",
     "output_type": "stream",
     "text": [
      "(1887166, 16)\n",
      "<class 'pandas.core.frame.DataFrame'>\n",
      "RangeIndex: 1887166 entries, 0 to 1887165\n",
      "Data columns (total 16 columns):\n",
      "ID                       float64\n",
      "title                    object\n",
      "IMDB URL                 object\n",
      "genre                    object\n",
      "director                 object\n",
      "cast                     object\n",
      "IMDB rating              float64\n",
      "mpaa                     object\n",
      "writer                   object\n",
      "certificates             object\n",
      "runtimes                 object\n",
      "year                     float64\n",
      "plot summary             object\n",
      "plot keywords            object\n",
      "type                     object\n",
      "full screen image URL    object\n",
      "dtypes: float64(3), object(13)\n",
      "memory usage: 230.4+ MB\n"
     ]
    }
   ],
   "source": [
    "print mov.shape\n",
    "mov.info()"
   ]
  },
  {
   "cell_type": "code",
   "execution_count": 6,
   "metadata": {
    "collapsed": false
   },
   "outputs": [
    {
     "data": {
      "text/plain": [
       "8840"
      ]
     },
     "execution_count": 6,
     "metadata": {},
     "output_type": "execute_result"
    }
   ],
   "source": [
    "len(mov.genre.unique())"
   ]
  },
  {
   "cell_type": "code",
   "execution_count": 7,
   "metadata": {
    "collapsed": false,
    "scrolled": true
   },
   "outputs": [
    {
     "data": {
      "text/html": [
       "<div>\n",
       "<table border=\"1\" class=\"dataframe\">\n",
       "  <thead>\n",
       "    <tr style=\"text-align: right;\">\n",
       "      <th></th>\n",
       "      <th>ID</th>\n",
       "      <th>title</th>\n",
       "      <th>IMDB URL</th>\n",
       "      <th>genre</th>\n",
       "      <th>director</th>\n",
       "      <th>cast</th>\n",
       "      <th>IMDB rating</th>\n",
       "      <th>mpaa</th>\n",
       "      <th>writer</th>\n",
       "      <th>certificates</th>\n",
       "      <th>runtimes</th>\n",
       "      <th>year</th>\n",
       "      <th>plot summary</th>\n",
       "      <th>plot keywords</th>\n",
       "      <th>type</th>\n",
       "      <th>full screen image URL</th>\n",
       "    </tr>\n",
       "  </thead>\n",
       "  <tbody>\n",
       "    <tr>\n",
       "      <th>0</th>\n",
       "      <td>NaN</td>\n",
       "      <td>NaN</td>\n",
       "      <td>http://akas.imdb.com/title/tt0361497/</td>\n",
       "      <td>NaN</td>\n",
       "      <td>NaN</td>\n",
       "      <td>NaN</td>\n",
       "      <td>NaN</td>\n",
       "      <td>NaN</td>\n",
       "      <td>NaN</td>\n",
       "      <td>NaN</td>\n",
       "      <td>NaN</td>\n",
       "      <td>NaN</td>\n",
       "      <td>NaN</td>\n",
       "      <td>NaN</td>\n",
       "      <td>NaN</td>\n",
       "      <td>NaN</td>\n",
       "    </tr>\n",
       "    <tr>\n",
       "      <th>1</th>\n",
       "      <td>361498.0</td>\n",
       "      <td>Death of a Dynasty</td>\n",
       "      <td>http://akas.imdb.com/title/tt0361498/</td>\n",
       "      <td>Musical,Comedy</td>\n",
       "      <td>,Damon Dash</td>\n",
       "      <td>,(Ebon Moss-Bachrach)-(Dave Katz),(Capone Lee)...</td>\n",
       "      <td>3.9</td>\n",
       "      <td>Rated R for pervasive language, some drug and ...</td>\n",
       "      <td>,Adam Moreno</td>\n",
       "      <td>[u'USA:R']</td>\n",
       "      <td>[u'92']</td>\n",
       "      <td>2003.0</td>\n",
       "      <td>[u'A young journalist, David Katz, who writes ...</td>\n",
       "      <td>[u'hip-hop', u'scene-during-end-credits', u'af...</td>\n",
       "      <td>NaN</td>\n",
       "      <td>https://images-na.ssl-images-amazon.com/images...</td>\n",
       "    </tr>\n",
       "    <tr>\n",
       "      <th>2</th>\n",
       "      <td>361499.0</td>\n",
       "      <td>The Secret Life of Racquel Darrian</td>\n",
       "      <td>http://akas.imdb.com/title/tt0361499/</td>\n",
       "      <td>Adult</td>\n",
       "      <td>,Toni English,Derrick Lane,Paul Thomas</td>\n",
       "      <td>,(Racquel Darrian)-(Herself),(Buck Adams)-(),(...</td>\n",
       "      <td>6.5</td>\n",
       "      <td>NaN</td>\n",
       "      <td>,Toni English</td>\n",
       "      <td>[u'USA:X']</td>\n",
       "      <td>[u'USA:147']</td>\n",
       "      <td>2001.0</td>\n",
       "      <td>[u\"Racquel Darrian's most complete 'best of' D...</td>\n",
       "      <td>[u'sex', u'lesbian-sex', u'hardcore', u'facial']</td>\n",
       "      <td>NaN</td>\n",
       "      <td>NaN</td>\n",
       "    </tr>\n",
       "    <tr>\n",
       "      <th>3</th>\n",
       "      <td>361500.0</td>\n",
       "      <td>Delgo</td>\n",
       "      <td>http://akas.imdb.com/title/tt0361500/</td>\n",
       "      <td>Animation,Adventure,Comedy,Fantasy,Romance</td>\n",
       "      <td>,Marc F. Adler,Jason Maurer</td>\n",
       "      <td>,(Freddie Prinze Jr.)-(Delgo),(Chris Kattan)-(...</td>\n",
       "      <td>4.4</td>\n",
       "      <td>Rated PG for sequences of fantasy action violence</td>\n",
       "      <td>,Patrick J. Cowan,Carl Dream,Jennifer Jones-Mi...</td>\n",
       "      <td>[u'Argentina:Atp', u'Australia:PG', u'Germany:...</td>\n",
       "      <td>[u'94']</td>\n",
       "      <td>2008.0</td>\n",
       "      <td>[u'In an exotic divided land, Delgo, an advent...</td>\n",
       "      <td>[u'villainess', u'surrealism', u'one-word-titl...</td>\n",
       "      <td>NaN</td>\n",
       "      <td>https://images-na.ssl-images-amazon.com/images...</td>\n",
       "    </tr>\n",
       "    <tr>\n",
       "      <th>4</th>\n",
       "      <td>NaN</td>\n",
       "      <td>NaN</td>\n",
       "      <td>http://akas.imdb.com/title/tt0361501/</td>\n",
       "      <td>NaN</td>\n",
       "      <td>NaN</td>\n",
       "      <td>NaN</td>\n",
       "      <td>NaN</td>\n",
       "      <td>NaN</td>\n",
       "      <td>NaN</td>\n",
       "      <td>NaN</td>\n",
       "      <td>NaN</td>\n",
       "      <td>NaN</td>\n",
       "      <td>NaN</td>\n",
       "      <td>[u'title-directed-by-female', u'based-on-novel']</td>\n",
       "      <td>NaN</td>\n",
       "      <td>NaN</td>\n",
       "    </tr>\n",
       "  </tbody>\n",
       "</table>\n",
       "</div>"
      ],
      "text/plain": [
       "         ID                               title  \\\n",
       "0       NaN                                 NaN   \n",
       "1  361498.0                  Death of a Dynasty   \n",
       "2  361499.0  The Secret Life of Racquel Darrian   \n",
       "3  361500.0                               Delgo   \n",
       "4       NaN                                 NaN   \n",
       "\n",
       "                                IMDB URL  \\\n",
       "0  http://akas.imdb.com/title/tt0361497/   \n",
       "1  http://akas.imdb.com/title/tt0361498/   \n",
       "2  http://akas.imdb.com/title/tt0361499/   \n",
       "3  http://akas.imdb.com/title/tt0361500/   \n",
       "4  http://akas.imdb.com/title/tt0361501/   \n",
       "\n",
       "                                        genre  \\\n",
       "0                                         NaN   \n",
       "1                              Musical,Comedy   \n",
       "2                                       Adult   \n",
       "3  Animation,Adventure,Comedy,Fantasy,Romance   \n",
       "4                                         NaN   \n",
       "\n",
       "                                 director  \\\n",
       "0                                     NaN   \n",
       "1                             ,Damon Dash   \n",
       "2  ,Toni English,Derrick Lane,Paul Thomas   \n",
       "3             ,Marc F. Adler,Jason Maurer   \n",
       "4                                     NaN   \n",
       "\n",
       "                                                cast  IMDB rating  \\\n",
       "0                                                NaN          NaN   \n",
       "1  ,(Ebon Moss-Bachrach)-(Dave Katz),(Capone Lee)...          3.9   \n",
       "2  ,(Racquel Darrian)-(Herself),(Buck Adams)-(),(...          6.5   \n",
       "3  ,(Freddie Prinze Jr.)-(Delgo),(Chris Kattan)-(...          4.4   \n",
       "4                                                NaN          NaN   \n",
       "\n",
       "                                                mpaa  \\\n",
       "0                                                NaN   \n",
       "1  Rated R for pervasive language, some drug and ...   \n",
       "2                                                NaN   \n",
       "3  Rated PG for sequences of fantasy action violence   \n",
       "4                                                NaN   \n",
       "\n",
       "                                              writer  \\\n",
       "0                                                NaN   \n",
       "1                                       ,Adam Moreno   \n",
       "2                                      ,Toni English   \n",
       "3  ,Patrick J. Cowan,Carl Dream,Jennifer Jones-Mi...   \n",
       "4                                                NaN   \n",
       "\n",
       "                                        certificates      runtimes    year  \\\n",
       "0                                                NaN           NaN     NaN   \n",
       "1                                         [u'USA:R']       [u'92']  2003.0   \n",
       "2                                         [u'USA:X']  [u'USA:147']  2001.0   \n",
       "3  [u'Argentina:Atp', u'Australia:PG', u'Germany:...       [u'94']  2008.0   \n",
       "4                                                NaN           NaN     NaN   \n",
       "\n",
       "                                        plot summary  \\\n",
       "0                                                NaN   \n",
       "1  [u'A young journalist, David Katz, who writes ...   \n",
       "2  [u\"Racquel Darrian's most complete 'best of' D...   \n",
       "3  [u'In an exotic divided land, Delgo, an advent...   \n",
       "4                                                NaN   \n",
       "\n",
       "                                       plot keywords type  \\\n",
       "0                                                NaN  NaN   \n",
       "1  [u'hip-hop', u'scene-during-end-credits', u'af...  NaN   \n",
       "2   [u'sex', u'lesbian-sex', u'hardcore', u'facial']  NaN   \n",
       "3  [u'villainess', u'surrealism', u'one-word-titl...  NaN   \n",
       "4   [u'title-directed-by-female', u'based-on-novel']  NaN   \n",
       "\n",
       "                               full screen image URL  \n",
       "0                                                NaN  \n",
       "1  https://images-na.ssl-images-amazon.com/images...  \n",
       "2                                                NaN  \n",
       "3  https://images-na.ssl-images-amazon.com/images...  \n",
       "4                                                NaN  "
      ]
     },
     "execution_count": 7,
     "metadata": {},
     "output_type": "execute_result"
    }
   ],
   "source": [
    "mov.head()"
   ]
  },
  {
   "cell_type": "markdown",
   "metadata": {},
   "source": [
    "Missing value percentages"
   ]
  },
  {
   "cell_type": "code",
   "execution_count": 25,
   "metadata": {
    "collapsed": false
   },
   "outputs": [
    {
     "name": "stdout",
     "output_type": "stream",
     "text": [
      "3\n"
     ]
    },
    {
     "data": {
      "text/plain": [
       "IMDB rating    0.646523\n",
       "year           0.052958\n",
       "ID             0.029203\n",
       "dtype: float64"
      ]
     },
     "execution_count": 25,
     "metadata": {},
     "output_type": "execute_result"
    }
   ],
   "source": [
    "quantitive_columns = mov.select_dtypes(include=[np.number]).columns\n",
    "print len(quantitive_columns)\n",
    "miss_quant_null=mov[quantitive_columns].isnull().sum(axis=0)/mov.shape[0]\n",
    "miss_quant_null.sort_values(ascending=False)"
   ]
  },
  {
   "cell_type": "code",
   "execution_count": 26,
   "metadata": {
    "collapsed": false
   },
   "outputs": [
    {
     "name": "stdout",
     "output_type": "stream",
     "text": [
      "13\n"
     ]
    },
    {
     "data": {
      "text/plain": [
       "type                     0.999999\n",
       "mpaa                     0.991785\n",
       "certificates             0.874222\n",
       "full screen image URL    0.771745\n",
       "plot keywords            0.644390\n",
       "plot summary             0.623552\n",
       "runtimes                 0.592860\n",
       "writer                   0.528070\n",
       "director                 0.277648\n",
       "cast                     0.207449\n",
       "genre                    0.122260\n",
       "title                    0.029203\n",
       "IMDB URL                 0.000000\n",
       "dtype: float64"
      ]
     },
     "execution_count": 26,
     "metadata": {},
     "output_type": "execute_result"
    }
   ],
   "source": [
    "qualitative_columns = mov.select_dtypes(include=[object]).columns\n",
    "print len(qualitative_columns)\n",
    "miss_qual=mov[qualitative_columns].isnull().sum(axis=0)/mov.shape[0]\n",
    "miss_qual.sort_values(ascending=False)"
   ]
  },
  {
   "cell_type": "markdown",
   "metadata": {},
   "source": [
    "55111 null movie ids 230725 null genre "
   ]
  },
  {
   "cell_type": "code",
   "execution_count": 8,
   "metadata": {
    "collapsed": false
   },
   "outputs": [
    {
     "name": "stdout",
     "output_type": "stream",
     "text": [
      "False    1832055\n",
      "True       55111\n",
      "Name: ID, dtype: int64\n"
     ]
    },
    {
     "data": {
      "text/plain": [
       "False    1656441\n",
       "True      230725\n",
       "Name: genre, dtype: int64"
      ]
     },
     "execution_count": 8,
     "metadata": {},
     "output_type": "execute_result"
    }
   ],
   "source": [
    "print mov.ID.isnull().value_counts()\n",
    "mov.genre.isnull().value_counts()"
   ]
  },
  {
   "cell_type": "code",
   "execution_count": 9,
   "metadata": {
    "collapsed": true
   },
   "outputs": [],
   "source": [
    "mov1=mov.dropna(subset=[\"ID\"])"
   ]
  },
  {
   "cell_type": "code",
   "execution_count": 10,
   "metadata": {
    "collapsed": false
   },
   "outputs": [
    {
     "name": "stdout",
     "output_type": "stream",
     "text": [
      "False    1832055\n",
      "Name: ID, dtype: int64\n",
      "False    1656440\n",
      "True      175615\n",
      "Name: genre, dtype: int64\n",
      "False    1656440\n",
      "Name: genre, dtype: int64\n"
     ]
    }
   ],
   "source": [
    "print mov1.ID.isnull().value_counts()\n",
    "print mov1.genre.isnull().value_counts()\n",
    "mov1=mov1.dropna(subset=[\"genre\"])\n",
    "print mov1.genre.isnull().value_counts()"
   ]
  },
  {
   "cell_type": "markdown",
   "metadata": {},
   "source": [
    "Removing duplicate movie IDs"
   ]
  },
  {
   "cell_type": "code",
   "execution_count": 11,
   "metadata": {
    "collapsed": true
   },
   "outputs": [],
   "source": [
    "mov1=mov1.drop_duplicates(\"ID\")"
   ]
  },
  {
   "cell_type": "code",
   "execution_count": 12,
   "metadata": {
    "collapsed": false
   },
   "outputs": [
    {
     "name": "stdout",
     "output_type": "stream",
     "text": [
      "(1002801, 16)\n"
     ]
    },
    {
     "data": {
      "text/plain": [
       "Index([u'ID', u'title', u'IMDB URL', u'genre', u'director', u'cast',\n",
       "       u'IMDB rating', u'mpaa', u'writer', u'certificates', u'runtimes',\n",
       "       u'year', u'plot summary', u'plot keywords', u'type',\n",
       "       u'full screen image URL'],\n",
       "      dtype='object')"
      ]
     },
     "execution_count": 12,
     "metadata": {},
     "output_type": "execute_result"
    }
   ],
   "source": [
    "print mov1.shape\n",
    "mov1.columns"
   ]
  },
  {
   "cell_type": "markdown",
   "metadata": {},
   "source": [
    "Checking if the ID matches the ID from URL "
   ]
  },
  {
   "cell_type": "code",
   "execution_count": 14,
   "metadata": {
    "collapsed": false
   },
   "outputs": [],
   "source": [
    "pattern = re.compile(\"(?P<URL_ID>\\d+)\")\n",
    "mov2 = pd.merge(mov1, mov1[\"IMDB URL\"].str.extract(pattern, expand=True),\n",
    "                         left_index=True, right_index=True)"
   ]
  },
  {
   "cell_type": "code",
   "execution_count": 15,
   "metadata": {
    "collapsed": false
   },
   "outputs": [
    {
     "name": "stdout",
     "output_type": "stream",
     "text": [
      "(1002801, 17)\n"
     ]
    },
    {
     "name": "stderr",
     "output_type": "stream",
     "text": [
      "C:\\Users\\mom1\\Anaconda2\\lib\\site-packages\\ipykernel\\__main__.py:3: FutureWarning: convert_objects is deprecated.  Use the data-type specific converters pd.to_datetime, pd.to_timedelta and pd.to_numeric.\n",
      "  app.launch_new_instance()\n"
     ]
    },
    {
     "data": {
      "text/plain": [
       "Index([u'ID', u'title', u'IMDB URL', u'genre', u'director', u'cast',\n",
       "       u'IMDB rating', u'mpaa', u'writer', u'certificates', u'runtimes',\n",
       "       u'year', u'plot summary', u'plot keywords', u'type',\n",
       "       u'full screen image URL', u'URL_ID'],\n",
       "      dtype='object')"
      ]
     },
     "execution_count": 15,
     "metadata": {},
     "output_type": "execute_result"
    }
   ],
   "source": [
    "pat=re.compile('(^0)')\n",
    "mov2.URL_ID.replace(to_replace=pat,value='',inplace=True)\n",
    "mov2.URL_ID=mov2.URL_ID.convert_objects(convert_numeric=True)\n",
    "print mov2.shape\n",
    "mov2.columns"
   ]
  },
  {
   "cell_type": "markdown",
   "metadata": {},
   "source": [
    "17 non matching rows"
   ]
  },
  {
   "cell_type": "code",
   "execution_count": 16,
   "metadata": {
    "collapsed": true
   },
   "outputs": [],
   "source": [
    "mov3=mov2[mov2[\"ID\"]==mov2[\"URL_ID\"]]"
   ]
  },
  {
   "cell_type": "code",
   "execution_count": 17,
   "metadata": {
    "collapsed": false
   },
   "outputs": [
    {
     "name": "stdout",
     "output_type": "stream",
     "text": [
      "1002801\n",
      "1002784\n"
     ]
    },
    {
     "data": {
      "text/plain": [
       "17"
      ]
     },
     "execution_count": 17,
     "metadata": {},
     "output_type": "execute_result"
    }
   ],
   "source": [
    "print mov2.shape[0]\n",
    "print mov3.shape[0]\n",
    "(mov2.shape[0] - mov3.shape[0])"
   ]
  },
  {
   "cell_type": "markdown",
   "metadata": {},
   "source": [
    "Check if Year is in range (1874, 2117); source: IMDb website"
   ]
  },
  {
   "cell_type": "code",
   "execution_count": 18,
   "metadata": {
    "collapsed": false
   },
   "outputs": [
    {
     "name": "stdout",
     "output_type": "stream",
     "text": [
      "1888.0\n"
     ]
    },
    {
     "data": {
      "text/plain": [
       "2020.0"
      ]
     },
     "execution_count": 18,
     "metadata": {},
     "output_type": "execute_result"
    }
   ],
   "source": [
    "print min(mov3[\"year\"])\n",
    "max(mov3[\"year\"])"
   ]
  },
  {
   "cell_type": "markdown",
   "metadata": {},
   "source": [
    "Validate Ratings"
   ]
  },
  {
   "cell_type": "code",
   "execution_count": 29,
   "metadata": {
    "collapsed": false
   },
   "outputs": [
    {
     "name": "stdout",
     "output_type": "stream",
     "text": [
      "1.0\n"
     ]
    },
    {
     "data": {
      "text/plain": [
       "10.0"
      ]
     },
     "execution_count": 29,
     "metadata": {},
     "output_type": "execute_result"
    }
   ],
   "source": [
    "print min(mov3[\"IMDB rating\"])\n",
    "max(mov3[\"IMDB rating\"])"
   ]
  },
  {
   "cell_type": "code",
   "execution_count": 34,
   "metadata": {
    "collapsed": true
   },
   "outputs": [],
   "source": [
    "mov3.to_csv(\"mov3.csv\")"
   ]
  },
  {
   "cell_type": "code",
   "execution_count": null,
   "metadata": {
    "collapsed": true
   },
   "outputs": [],
   "source": []
  }
 ],
 "metadata": {
  "anaconda-cloud": {},
  "kernelspec": {
   "display_name": "Python [conda root]",
   "language": "python",
   "name": "conda-root-py"
  },
  "language_info": {
   "codemirror_mode": {
    "name": "ipython",
    "version": 2
   },
   "file_extension": ".py",
   "mimetype": "text/x-python",
   "name": "python",
   "nbconvert_exporter": "python",
   "pygments_lexer": "ipython2",
   "version": "2.7.12"
  }
 },
 "nbformat": 4,
 "nbformat_minor": 2
}
